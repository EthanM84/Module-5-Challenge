{
 "cells": [
  {
   "cell_type": "code",
   "execution_count": null,
   "metadata": {
    "tags": []
   },
   "outputs": [],
   "source": [
    "# Dependencies and Setup\n",
    "%matplotlib inline\n",
    "import matplotlib.pyplot as plt\n",
    "from pathlib import Path\n",
    "import pandas as pd\n",
    "import scipy.stats as st\n",
    "from scipy import stats\n",
    "\n",
    "# Study data files\n",
    "mouse_metadata_path = Path(\"data/Mouse_metadata.csv\")\n",
    "study_results_path = Path(\"data/Study_results.csv\")\n",
    "\n",
    "# Read the mouse data and the study results\n",
    "mouse_metadata = pd.read_csv(mouse_metadata_path)\n",
    "study_results = pd.read_csv(study_results_path)\n",
    "\n",
    "# Combine the data into a single DataFrame\n",
    "merged_df = pd.merge(study_results, mouse_metadata, on='Mouse ID', how='left')\n",
    "\n",
    "# Display the data table for preview\n",
    "merged_df.head()\n"
   ]
  },
  {
   "cell_type": "code",
   "execution_count": null,
   "metadata": {},
   "outputs": [],
   "source": [
    "# Checking the number of mice.\n",
    "num_mice = merged_df['Mouse ID'].nunique()\n",
    "num_mice"
   ]
  },
  {
   "cell_type": "code",
   "execution_count": null,
   "metadata": {},
   "outputs": [],
   "source": [
    "# Our data should be uniquely identified by Mouse ID and Timepoint\n",
    "# Get the duplicate mice by ID number that shows up for Mouse ID and Timepoint. \n",
    "duplicate_mice = merged_df.loc[merged_df.duplicated(subset=['Mouse ID', 'Timepoint']), 'Mouse ID'].unique()\n",
    "duplicate_mice"
   ]
  },
  {
   "cell_type": "code",
   "execution_count": null,
   "metadata": {},
   "outputs": [],
   "source": [
    "# Optional: Get all the data for the duplicate mouse ID. \n",
    "# First, find the duplicate mice\n",
    "duplicate_mice = merged_df.loc[merged_df.duplicated(subset=['Mouse ID', 'Timepoint']), 'Mouse ID'].unique()\n",
    "\n",
    "# Then, get all data for each duplicate mouse\n",
    "for mouse in duplicate_mice:\n",
    "    duplicate_data = merged_df.loc[merged_df['Mouse ID'] == mouse]\n",
    "    print(f'Data for Mouse ID {mouse}:')\n",
    "    display(duplicate_data)"
   ]
  },
  {
   "cell_type": "code",
   "execution_count": null,
   "metadata": {},
   "outputs": [],
   "source": [
    "# Create a clean DataFrame by dropping the duplicate mouse by its ID\n",
    "# Drop the rows with Mouse ID \"g989\"\n",
    "clean_df = merged_df.drop(merged_df[merged_df[\"Mouse ID\"] == \"g989\"].index)\n",
    "\n",
    "# Display the clean DataFrame\n",
    "clean_df.head()"
   ]
  },
  {
   "cell_type": "code",
   "execution_count": null,
   "metadata": {},
   "outputs": [],
   "source": [
    "# Checking the number of mice in the clean DataFrame.\n",
    "# Count the number of unique mice in the clean DataFrame\n",
    "num_unique_mice = clean_df[\"Mouse ID\"].nunique()\n",
    "\n",
    "# Print the result\n",
    "num_unique_mice"
   ]
  },
  {
   "cell_type": "markdown",
   "metadata": {},
   "source": [
    "## Summary Statistics"
   ]
  },
  {
   "cell_type": "code",
   "execution_count": null,
   "metadata": {},
   "outputs": [],
   "source": [
    "# Generate a summary statistics table of mean, median, variance, standard deviation, and SEM of the tumor volume for each regimen\n",
    "\n",
    "# Group the data by drug regimen and calculate the summary statistics\n",
    "summary_stats = clean_df.groupby(\"Drug Regimen\")[\"Tumor Volume (mm3)\"].agg([\"mean\", \"median\", \"var\", \"std\", \"sem\"])\n",
    "\n",
    "# Rename the columns for clarity\n",
    "summary_stats = summary_stats.rename(columns={\n",
    "    \"mean\": \"Mean Tumor Volume\",\n",
    "    \"median\": \"Median Tumor Volume\",\n",
    "    \"var\": \"Tumor Volume Variance\",\n",
    "    \"std\": \"Tumor Volume Std. Dev.\",\n",
    "    \"sem\": \"Tumor Volume Std. Err.\"\n",
    "})\n",
    "\n",
    "# Print the summary statistics table\n",
    "summary_stats\n",
    "\n",
    "\n"
   ]
  },
  {
   "cell_type": "code",
   "execution_count": null,
   "metadata": {},
   "outputs": [],
   "source": [
    "# A more advanced method to generate a summary statistics table of mean, median, variance, standard deviation,\n",
    "# and SEM of the tumor volume for each regimen (only one method is required in the solution)\n",
    "\n",
    "# Using the aggregation method, produce the same summary statistics in a single line\n",
    "\n",
    "# Use the agg method with a dictionary of column names and functions to generate the summary statistics\n",
    "summary_stats = clean_df.groupby(\"Drug Regimen\").agg({\n",
    "    \"Tumor Volume (mm3)\": [\"mean\", \"median\", \"var\", \"std\", \"sem\"]\n",
    "})\n",
    "\n",
    "# Flatten the hierarchical column index\n",
    "summary_stats.columns = summary_stats.columns.map(\"_\".join)\n",
    "\n",
    "# Rename the columns for clarity\n",
    "summary_stats = summary_stats.rename(columns={\n",
    "    \"Tumor Volume (mm3)_mean\": \"Mean Tumor Volume\",\n",
    "    \"Tumor Volume (mm3)_median\": \"Median Tumor Volume\",\n",
    "    \"Tumor Volume (mm3)_var\": \"Tumor Volume Variance\",\n",
    "    \"Tumor Volume (mm3)_std\": \"Tumor Volume Std. Dev.\",\n",
    "    \"Tumor Volume (mm3)_sem\": \"Tumor Volume Std. Err.\"\n",
    "})\n",
    "\n",
    "# Print the summary statistics table\n",
    "summary_stats\n"
   ]
  },
  {
   "cell_type": "markdown",
   "metadata": {},
   "source": [
    "## Bar and Pie Charts"
   ]
  },
  {
   "cell_type": "code",
   "execution_count": null,
   "metadata": {},
   "outputs": [],
   "source": [
    "# Generate a bar plot showing the total number of rows (Mouse ID/Timepoints) for each drug regimen using Pandas.\n",
    "# Create a dataframe that counts the number of Mouse ID/Timepoints for each Drug Regimen\n",
    "drug_counts = clean_df[\"Drug Regimen\"].value_counts()\n",
    "\n",
    "# Create a bar plot using the Pandas plot() function\n",
    "drug_counts.plot(kind=\"bar\", color=\"blue\")\n",
    "\n",
    "# Set the title and labels\n",
    "plt.title(\"Total Number of Mouse ID/Timepoints for Each Drug Regimen\")\n",
    "plt.xlabel(\"Drug Regimen\")\n",
    "plt.ylabel(\"Number of Mouse ID/Timepoints\")\n",
    "\n",
    "# Display the plot\n",
    "plt.show()"
   ]
  },
  {
   "cell_type": "code",
   "execution_count": null,
   "metadata": {},
   "outputs": [],
   "source": [
    "# Generate a bar plot showing the total number of rows (Mouse ID/Timepoints) for each drug regimen using pyplot.\n",
    "# Create a dataframe that counts the number of Mouse ID/Timepoints for each Drug Regimen\n",
    "drug_counts = clean_df[\"Drug Regimen\"].value_counts()\n",
    "\n",
    "# Create a bar plot using the Pyplot bar() function\n",
    "plt.bar(drug_counts.index, drug_counts.values, color=\"blue\")\n",
    "\n",
    "# Set the title and labels\n",
    "plt.title(\"Total Number of Mouse ID/Timepoints for Each Drug Regimen\")\n",
    "plt.xlabel(\"Drug Regimen\")\n",
    "plt.ylabel(\"Number of Mouse ID/Timepoints\")\n",
    "\n",
    "# Rotate the x-axis labels for better visibility\n",
    "plt.xticks(rotation=90)\n",
    "\n",
    "# Display the plot\n",
    "plt.show()\n"
   ]
  },
  {
   "cell_type": "code",
   "execution_count": null,
   "metadata": {},
   "outputs": [],
   "source": [
    "# Generate a pie plot showing the distribution of female versus male mice using Pandas\n",
    "# Create a dataframe that counts the number of female and male mice\n",
    "gender_counts = clean_df[\"Sex\"].value_counts()\n",
    "\n",
    "# Create a pie plot using the Pandas plot() function\n",
    "gender_counts.plot(kind=\"pie\", y=\"Sex\", autopct=\"%1.1f%%\")\n",
    "\n",
    "# Set the title\n",
    "plt.title(\"Distribution of Female vs. Male Mice\")\n",
    "\n",
    "# Display the plot\n",
    "plt.show()\n",
    "\n"
   ]
  },
  {
   "cell_type": "code",
   "execution_count": null,
   "metadata": {},
   "outputs": [],
   "source": [
    "# Generate a pie plot showing the distribution of female versus male mice using pyplot\n",
    "\n",
    "# Create a dataframe that counts the number of female and male mice\n",
    "gender_counts = clean_df[\"Sex\"].value_counts()\n",
    "\n",
    "# Create a pie plot using the pyplot pie() function\n",
    "plt.pie(gender_counts, labels=gender_counts.index, autopct=\"%1.1f%%\")\n",
    "\n",
    "# Set the title\n",
    "plt.title(\"Distribution of Female vs. Male Mice\")\n",
    "\n",
    "# Display the plot\n",
    "plt.show()\n"
   ]
  },
  {
   "cell_type": "markdown",
   "metadata": {},
   "source": [
    "## Quartiles, Outliers and Boxplots"
   ]
  },
  {
   "cell_type": "code",
   "execution_count": null,
   "metadata": {},
   "outputs": [],
   "source": [
    "# Calculate the final tumor volume of each mouse across four of the treatment regimens:  \n",
    "# Capomulin, Ramicane, Infubinol, and Ceftamin\n",
    "\n",
    "# Calculate the last (greatest) timepoint for each mouse\n",
    "max_timepoints = merged_df.groupby('Mouse ID')['Timepoint'].max()\n",
    "\n",
    "# Create a DataFrame that contains the final timepoint for each mouse\n",
    "final_timepoints_df = pd.DataFrame(max_timepoints)\n",
    "\n",
    "# Merge the final timepoints DataFrame with the original DataFrame to get the tumor volume at the last timepoint for each mouse\n",
    "merged_final_df = pd.merge(final_timepoints_df, merged_df, on=['Mouse ID', 'Timepoint'], how='left')\n",
    "\n",
    "# Specify the treatment regimens of interest\n",
    "treatment_regimens = ['Capomulin', 'Ramicane', 'Infubinol', 'Ceftamin']\n",
    "\n",
    "# Filter the merged DataFrame to include only the specified treatment regimens\n",
    "final_tumor_volume_df = merged_final_df[merged_final_df['Drug Regimen'].isin(treatment_regimens)]\n",
    "\n",
    "# final_tumor_volume_df\n",
    "final_tumor_volume_df = final_tumor_volume_df[['Mouse ID', 'Drug Regimen', 'Tumor Volume (mm3)']]\n",
    "# print(final_tumor_volume_df[['Mouse ID', 'Drug Regimen', 'Tumor Volume (mm3)']])\n",
    "final_tumor_volume_df\n"
   ]
  },
  {
   "cell_type": "code",
   "execution_count": null,
   "metadata": {},
   "outputs": [],
   "source": [
    "# Put treatments into a list for for loop (and later for plot labels)\n",
    "treatments = [\"Capomulin\", \"Ramicane\", \"Infubinol\", \"Ceftamin\"]\n",
    "\n",
    "# Create empty list to fill with tumor vol data (for plotting)\n",
    "tumor_vols = []\n",
    "\n",
    "# Loop through each treatment\n",
    "for treatment in treatments:\n",
    "    \n",
    "    # Locate the rows which contain mice on each drug and get the tumor volumes\n",
    "    final_tumor_vol = merged_df.loc[merged_df[\"Drug Regimen\"] == treatment].groupby(\"Mouse ID\").agg({\"Timepoint\": \"max\", \"Tumor Volume (mm3)\": \"last\"})\n",
    "    \n",
    "    # Calculate the IQR and quantitatively determine if there are any potential outliers.\n",
    "    quartiles = final_tumor_vol[\"Tumor Volume (mm3)\"].quantile([0.25, 0.5, 0.75])\n",
    "    lowerq = quartiles[0.25]\n",
    "    upperq = quartiles[0.75]\n",
    "    iqr = upperq - lowerq\n",
    "    \n",
    "    # Determine outliers using upper and lower bounds\n",
    "    lower_bound = lowerq - (1.5 * iqr)\n",
    "    upper_bound = upperq + (1.5 * iqr)\n",
    "    outliers = final_tumor_vol.loc[(final_tumor_vol[\"Tumor Volume (mm3)\"] < lower_bound) | (final_tumor_vol[\"Tumor Volume (mm3)\"] > upper_bound)]\n",
    "    \n",
    "    # Append the tumor volume data to the list\n",
    "    tumor_vols.append(final_tumor_vol[\"Tumor Volume (mm3)\"])\n",
    "    \n",
    "    # Print summary statistics and outliers\n",
    "    print(f\"{treatment} Regimen\")\n",
    "    print(f\"Number of Mice: {len(final_tumor_vol)}\")\n",
    "    print(f\"Median Tumor Volume: {quartiles[0.5]}\")\n",
    "    print(f\"Lower Quartile: {lowerq}\")\n",
    "    print(f\"Upper Quartile: {upperq}\")\n",
    "    print(f\"IQR: {iqr}\")\n",
    "    print(f\"Lower Bound: {lower_bound}\")\n",
    "    print(f\"Upper Bound: {upper_bound}\")\n",
    "    \n",
    "    # Check if there are any outliers\n",
    "    if len(outliers) > 0:\n",
    "        print(f\"{treatment}'s potential outliers: {outliers['Tumor Volume (mm3)']}\")\n",
    "    else:\n",
    "        print(f\"No potential outliers found\")\n",
    "        \n",
    "    print()\n"
   ]
  },
  {
   "cell_type": "code",
   "execution_count": null,
   "metadata": {},
   "outputs": [],
   "source": [
    "# Create a list of the four treatments\n",
    "treatments = ['Capomulin', 'Ramicane', 'Infubinol', 'Ceftamin']\n",
    "\n",
    "# Create an empty list to store tumor volume data for each treatment\n",
    "tumor_vol_data = []\n",
    "\n",
    "# Iterate through each treatment and extract the tumor volume data\n",
    "for treatment in treatments:\n",
    "    # Create a subset dataframe for each treatment\n",
    "    treatment_df = merged_df.loc[merged_df['Drug Regimen'] == treatment]\n",
    "    \n",
    "    # Get the tumor volume data for the last timepoint for each mouse\n",
    "    tumor_vol = treatment_df.groupby('Mouse ID').agg({'Timepoint': 'max', 'Tumor Volume (mm3)': 'last'})['Tumor Volume (mm3)']\n",
    "    \n",
    "    # Append the tumor volume data to the list\n",
    "    tumor_vol_data.append(list(tumor_vol))\n",
    "\n",
    "# Create a box plot of the tumor volume data for each treatment\n",
    "fig, ax = plt.subplots()\n",
    "\n",
    "# Customize the box plot colors (I didn't color it, but it's there as option.)\n",
    "box_colors = ['white', 'white', 'white', 'white']\n",
    "\n",
    "# Create the box plot with customized colors\n",
    "bp = ax.boxplot(tumor_vol_data, labels=treatments, patch_artist=True, boxprops=dict(facecolor='white'))\n",
    "\n",
    "# Set the color of the outlier markers for 'Infubinol' to red\n",
    "outlier_marker = bp['fliers'][2]  # 'Infubinol' is at index 2\n",
    "outlier_marker.set(markerfacecolor='red', markersize=13)\n",
    "\n",
    "# Set the title and axis labels\n",
    "ax.set_title('Final Tumor Volume by Treatment')\n",
    "ax.set_xlabel('Treatment')\n",
    "ax.set_ylabel('Tumor Volume (mm3)')\n",
    "\n",
    "# Show the plot\n",
    "plt.show()\n"
   ]
  },
  {
   "cell_type": "markdown",
   "metadata": {},
   "source": [
    "## Line and Scatter Plots"
   ]
  },
  {
   "cell_type": "code",
   "execution_count": null,
   "metadata": {},
   "outputs": [],
   "source": [
    "# Generate a line plot of tumor volume vs. time point for a single mouse treated with Capomulin\n",
    "# Filter the data for mice treated with Capomulin\n",
    "capomulin_data = clean_df.loc[clean_df[\"Drug Regimen\"] == \"Capomulin\"]\n",
    "\n",
    "# Choose a single mouse (e.g. mouse ID s185) and extract its tumor volume data\n",
    "mouse_id = \"l509\"\n",
    "mouse_data = capomulin_data.loc[capomulin_data[\"Mouse ID\"] == mouse_id, [\"Timepoint\", \"Tumor Volume (mm3)\"]]\n",
    "\n",
    "# Create a line plot of tumor volume vs. time point for the chosen mouse\n",
    "plt.plot(mouse_data[\"Timepoint\"], mouse_data[\"Tumor Volume (mm3)\"])\n",
    "\n",
    "# Set the plot title and axis labels\n",
    "plt.title(f\"Tumor Volume vs. Time Point for Mouse {mouse_id} (Capomulin)\")\n",
    "plt.xlabel(\"Time Point\")\n",
    "plt.ylabel(\"Tumor Volume (mm3)\")\n",
    "\n",
    "# Display the plot\n",
    "plt.show()\n"
   ]
  },
  {
   "cell_type": "code",
   "execution_count": null,
   "metadata": {},
   "outputs": [],
   "source": [
    "# Generate a scatter plot of mouse weight vs. the average observed tumor volume for the entire Capomulin regimen\n",
    "\n",
    "# Filter the data for mice treated with Capomulin\n",
    "capomulin_data = merged_df.loc[merged_df[\"Drug Regimen\"] == \"Capomulin\"]\n",
    "\n",
    "# Group the data by Mouse ID and calculate the mean tumor volume and weight for each mouse\n",
    "capomulin_grouped = capomulin_data.groupby(\"Mouse ID\").agg({\"Tumor Volume (mm3)\": \"mean\", \"Weight (g)\": \"mean\"})\n",
    "\n",
    "# Create a scatter plot of mouse weight vs. the average observed tumor volume for the entire Capomulin regimen\n",
    "plt.scatter(capomulin_grouped[\"Weight (g)\"], capomulin_grouped[\"Tumor Volume (mm3)\"])\n",
    "\n",
    "# Set the plot title and axis labels\n",
    "plt.title(\"Mouse Weight vs. Average Tumor Volume for Capomulin Regimen\")\n",
    "plt.xlabel(\"Weight (g)\")\n",
    "plt.ylabel(\"Average Tumor Volume (mm3)\")\n",
    "\n",
    "# Display the plot\n",
    "plt.show()\n"
   ]
  },
  {
   "cell_type": "markdown",
   "metadata": {},
   "source": [
    "## Correlation and Regression"
   ]
  },
  {
   "cell_type": "code",
   "execution_count": null,
   "metadata": {},
   "outputs": [],
   "source": [
    "# Calculate the correlation coefficient and a linear regression model \n",
    "# for mouse weight and average observed tumor volume for the entire Capomulin regimen\n",
    "# Import the necessary libraries\n",
    "from scipy.stats import linregress\n",
    "\n",
    "# Get the weight and tumor volume data\n",
    "x = capomulin_grouped[\"Weight (g)\"]\n",
    "y = capomulin_grouped[\"Tumor Volume (mm3)\"]\n",
    "\n",
    "# Calculate the correlation coefficient\n",
    "r, p_value = stats.pearsonr(x, y)\n",
    "print(f\"The correlation between mouse weight and the average tumor volume is  {r:.2f}\")\n",
    "\n",
    "# Calculate the linear regression model\n",
    "slope, intercept, r_value, p_value, std_err = linregress(x, y)\n",
    "\n",
    "# Create the regression line data\n",
    "regress_values = x * slope + intercept\n",
    "\n",
    "# Create the scatter plot of the data and the regression line\n",
    "plt.scatter(x, y)\n",
    "plt.plot(x, regress_values, \"r-\")\n",
    "\n",
    "# Set the plot title and axis labels\n",
    "plt.title(\"Mouse Weight vs. Average Tumor Volume for Capomulin Regimen\")\n",
    "plt.xlabel(\"Weight (g)\")\n",
    "plt.ylabel(\"Average Tumor Volume (mm3)\")\n",
    "\n",
    "# Display the plot\n",
    "plt.show()\n"
   ]
  },
  {
   "cell_type": "code",
   "execution_count": null,
   "metadata": {},
   "outputs": [],
   "source": []
  }
 ],
 "metadata": {
  "anaconda-cloud": {},
  "kernelspec": {
   "display_name": "Python 3 (ipykernel)",
   "language": "python",
   "name": "python3"
  },
  "language_info": {
   "codemirror_mode": {
    "name": "ipython",
    "version": 3
   },
   "file_extension": ".py",
   "mimetype": "text/x-python",
   "name": "python",
   "nbconvert_exporter": "python",
   "pygments_lexer": "ipython3",
   "version": "3.9.16"
  }
 },
 "nbformat": 4,
 "nbformat_minor": 4
}
